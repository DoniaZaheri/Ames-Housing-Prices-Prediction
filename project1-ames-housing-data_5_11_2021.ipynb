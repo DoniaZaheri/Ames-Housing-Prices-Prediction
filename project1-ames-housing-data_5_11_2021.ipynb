{
 "cells": [
  {
   "cell_type": "code",
   "execution_count": 1,
   "metadata": {
    "_cell_guid": "b1076dfc-b9ad-4769-8c92-a6c4dae69d19",
    "_uuid": "8f2839f25d086af736a60e9eeb907d3b93b6e0e5",
    "execution": {
     "iopub.execute_input": "2021-03-22T22:07:58.956501Z",
     "iopub.status.busy": "2021-03-22T22:07:58.955754Z",
     "iopub.status.idle": "2021-03-22T22:07:58.982957Z",
     "shell.execute_reply": "2021-03-22T22:07:58.983564Z"
    },
    "papermill": {
     "duration": 0.068908,
     "end_time": "2021-03-22T22:07:58.983902",
     "exception": false,
     "start_time": "2021-03-22T22:07:58.914994",
     "status": "completed"
    },
    "tags": []
   },
   "outputs": [
    {
     "name": "stdout",
     "output_type": "stream",
     "text": [
      "/kaggle/input/ames-data-training-and-test/test_y4.csv\n",
      "/kaggle/input/ames-data-training-and-test/test10.csv\n",
      "/kaggle/input/ames-data-training-and-test/train8.csv\n",
      "/kaggle/input/ames-data-training-and-test/train4.csv\n",
      "/kaggle/input/ames-data-training-and-test/train7.csv\n",
      "/kaggle/input/ames-data-training-and-test/test6.csv\n",
      "/kaggle/input/ames-data-training-and-test/test_y10.csv\n",
      "/kaggle/input/ames-data-training-and-test/test_y8.csv\n",
      "/kaggle/input/ames-data-training-and-test/test_y3.csv\n",
      "/kaggle/input/ames-data-training-and-test/test_y6.csv\n",
      "/kaggle/input/ames-data-training-and-test/train9.csv\n",
      "/kaggle/input/ames-data-training-and-test/test_y2.csv\n",
      "/kaggle/input/ames-data-training-and-test/test1.csv\n",
      "/kaggle/input/ames-data-training-and-test/train3.csv\n",
      "/kaggle/input/ames-data-training-and-test/test1_test.csv\n",
      "/kaggle/input/ames-data-training-and-test/test8.csv\n",
      "/kaggle/input/ames-data-training-and-test/test9.csv\n",
      "/kaggle/input/ames-data-training-and-test/test5.csv\n",
      "/kaggle/input/ames-data-training-and-test/test4.csv\n",
      "/kaggle/input/ames-data-training-and-test/train1.csv\n",
      "/kaggle/input/ames-data-training-and-test/test_y7.csv\n",
      "/kaggle/input/ames-data-training-and-test/test_y1.csv\n",
      "/kaggle/input/ames-data-training-and-test/train5.csv\n",
      "/kaggle/input/ames-data-training-and-test/test2.csv\n",
      "/kaggle/input/ames-data-training-and-test/test_y5.csv\n",
      "/kaggle/input/ames-data-training-and-test/train2.csv\n",
      "/kaggle/input/ames-data-training-and-test/test3.csv\n",
      "/kaggle/input/ames-data-training-and-test/test_y9.csv\n",
      "/kaggle/input/ames-data-training-and-test/test7.csv\n",
      "/kaggle/input/ames-data-training-and-test/train6.csv\n",
      "/kaggle/input/ames-data-training-and-test/train10.csv\n"
     ]
    }
   ],
   "source": [
    "# This Python 3 environment comes with many helpful analytics libraries installed\n",
    "# It is defined by the kaggle/python Docker image: https://github.com/kaggle/docker-python\n",
    "# For example, here's several helpful packages to load\n",
    "\n",
    "import numpy as np # linear algebra\n",
    "import pandas as pd # data processing, CSV file I/O (e.g. pd.read_csv)\n",
    "\n",
    "# Input data files are available in the read-only \"../input/\" directory\n",
    "# For example, running this (by clicking run or pressing Shift+Enter) will list all files under the input directory\n",
    "\n",
    "import os\n",
    "for dirname, _, filenames in os.walk('/kaggle/input'):\n",
    "    for filename in filenames:\n",
    "        print(os.path.join(dirname, filename))\n",
    "\n",
    "# You can write up to 20GB to the current directory (/kaggle/working/) that gets preserved as output when you create a version using \"Save & Run All\" \n",
    "# You can also write temporary files to /kaggle/temp/, but they won't be saved outside of the current session"
   ]
  },
  {
   "cell_type": "code",
   "execution_count": 2,
   "metadata": {
    "execution": {
     "iopub.execute_input": "2021-03-22T22:07:59.062809Z",
     "iopub.status.busy": "2021-03-22T22:07:59.061812Z",
     "iopub.status.idle": "2021-03-22T22:08:00.877928Z",
     "shell.execute_reply": "2021-03-22T22:08:00.878466Z"
    },
    "papermill": {
     "duration": 1.856734,
     "end_time": "2021-03-22T22:08:00.878671",
     "exception": false,
     "start_time": "2021-03-22T22:07:59.021937",
     "status": "completed"
    },
    "tags": []
   },
   "outputs": [],
   "source": [
    "import numpy as np\n",
    "import pandas as pd\n",
    "import os\n",
    "from sklearn import metrics\n",
    "from sklearn import linear_model as lm\n",
    "from sklearn.preprocessing import StandardScaler as SC\n",
    "from sklearn.linear_model import Lasso\n",
    "from sklearn.model_selection import GridSearchCV\n",
    "from sklearn.metrics import mean_squared_error\n",
    "from scipy.stats.mstats import winsorize\n",
    "import matplotlib\n",
    "import matplotlib.pyplot as plt\n",
    "import time\n",
    "#from xgboost import XGBRegressor\n",
    "import xgboost as xgb\n",
    "np.random.seed(9549)"
   ]
  },
  {
   "cell_type": "code",
   "execution_count": 3,
   "metadata": {
    "execution": {
     "iopub.execute_input": "2021-03-22T22:08:00.956421Z",
     "iopub.status.busy": "2021-03-22T22:08:00.955093Z",
     "iopub.status.idle": "2021-03-22T22:08:01.065278Z",
     "shell.execute_reply": "2021-03-22T22:08:01.065824Z"
    },
    "papermill": {
     "duration": 0.150278,
     "end_time": "2021-03-22T22:08:01.066041",
     "exception": false,
     "start_time": "2021-03-22T22:08:00.915763",
     "status": "completed"
    },
    "tags": []
   },
   "outputs": [],
   "source": [
    "#Importing Test and Training Dataset\n",
    "\n",
    "#train = pd.read_csv('../input/house-prices-advanced-regression-techniques/train.csv')\n",
    "#test = pd.read_csv('../input/house-prices-advanced-regression-techniques/test.csv')\n",
    "train = pd.read_csv('../input/ames-data-training-and-test/train1.csv')\n",
    "test = pd.read_csv('../input/ames-data-training-and-test/test1.csv')\n",
    "test_y = pd.read_csv('../input/ames-data-training-and-test/test_y1.csv')\n",
    "\n",
    "\n",
    "#train.head()\n",
    "#test.head()"
   ]
  },
  {
   "cell_type": "code",
   "execution_count": 4,
   "metadata": {
    "execution": {
     "iopub.execute_input": "2021-03-22T22:08:01.143343Z",
     "iopub.status.busy": "2021-03-22T22:08:01.142304Z",
     "iopub.status.idle": "2021-03-22T22:08:01.146644Z",
     "shell.execute_reply": "2021-03-22T22:08:01.147119Z"
    },
    "papermill": {
     "duration": 0.044704,
     "end_time": "2021-03-22T22:08:01.147375",
     "exception": false,
     "start_time": "2021-03-22T22:08:01.102671",
     "status": "completed"
    },
    "tags": []
   },
   "outputs": [],
   "source": [
    "#list(train.columns)"
   ]
  },
  {
   "cell_type": "markdown",
   "metadata": {
    "papermill": {
     "duration": 0.036152,
     "end_time": "2021-03-22T22:08:01.220299",
     "exception": false,
     "start_time": "2021-03-22T22:08:01.184147",
     "status": "completed"
    },
    "tags": []
   },
   "source": [
    "Finding out more about the data"
   ]
  },
  {
   "cell_type": "code",
   "execution_count": 5,
   "metadata": {
    "execution": {
     "iopub.execute_input": "2021-03-22T22:08:01.297989Z",
     "iopub.status.busy": "2021-03-22T22:08:01.297078Z",
     "iopub.status.idle": "2021-03-22T22:08:01.300764Z",
     "shell.execute_reply": "2021-03-22T22:08:01.301256Z"
    },
    "papermill": {
     "duration": 0.043732,
     "end_time": "2021-03-22T22:08:01.301448",
     "exception": false,
     "start_time": "2021-03-22T22:08:01.257716",
     "status": "completed"
    },
    "tags": []
   },
   "outputs": [],
   "source": [
    "#train.info()"
   ]
  },
  {
   "cell_type": "markdown",
   "metadata": {
    "papermill": {
     "duration": 0.036491,
     "end_time": "2021-03-22T22:08:01.375506",
     "exception": false,
     "start_time": "2021-03-22T22:08:01.339015",
     "status": "completed"
    },
    "tags": []
   },
   "source": [
    "Seperating target and features"
   ]
  },
  {
   "cell_type": "code",
   "execution_count": 6,
   "metadata": {
    "execution": {
     "iopub.execute_input": "2021-03-22T22:08:01.454284Z",
     "iopub.status.busy": "2021-03-22T22:08:01.453289Z",
     "iopub.status.idle": "2021-03-22T22:08:01.477273Z",
     "shell.execute_reply": "2021-03-22T22:08:01.477755Z"
    },
    "papermill": {
     "duration": 0.065778,
     "end_time": "2021-03-22T22:08:01.477945",
     "exception": false,
     "start_time": "2021-03-22T22:08:01.412167",
     "status": "completed"
    },
    "tags": []
   },
   "outputs": [],
   "source": [
    "y_train, train = train['Sale_Price'], train.drop(['Sale_Price'], axis=1)\n",
    "\n",
    "PID_train, train = train['PID'], train.drop(['PID'], axis=1)\n",
    "\n",
    "PID_test, test = test['PID'], test.drop(['PID'], axis=1)\n"
   ]
  },
  {
   "cell_type": "code",
   "execution_count": 7,
   "metadata": {
    "execution": {
     "iopub.execute_input": "2021-03-22T22:08:01.556034Z",
     "iopub.status.busy": "2021-03-22T22:08:01.555055Z",
     "iopub.status.idle": "2021-03-22T22:08:01.568985Z",
     "shell.execute_reply": "2021-03-22T22:08:01.569485Z"
    },
    "papermill": {
     "duration": 0.054217,
     "end_time": "2021-03-22T22:08:01.569668",
     "exception": false,
     "start_time": "2021-03-22T22:08:01.515451",
     "status": "completed"
    },
    "tags": []
   },
   "outputs": [
    {
     "data": {
      "text/plain": [
       "count      2051.000000\n",
       "mean     180980.317406\n",
       "std       80913.184550\n",
       "min       12789.000000\n",
       "25%      129450.000000\n",
       "50%      160000.000000\n",
       "75%      212700.000000\n",
       "max      755000.000000\n",
       "Name: Sale_Price, dtype: float64"
      ]
     },
     "execution_count": 7,
     "metadata": {},
     "output_type": "execute_result"
    }
   ],
   "source": [
    "y_train.describe()"
   ]
  },
  {
   "cell_type": "markdown",
   "metadata": {
    "papermill": {
     "duration": 0.036404,
     "end_time": "2021-03-22T22:08:01.643097",
     "exception": false,
     "start_time": "2021-03-22T22:08:01.606693",
     "status": "completed"
    },
    "tags": []
   },
   "source": [
    "Finding correlation between variables"
   ]
  },
  {
   "cell_type": "code",
   "execution_count": 8,
   "metadata": {
    "execution": {
     "iopub.execute_input": "2021-03-22T22:08:01.721064Z",
     "iopub.status.busy": "2021-03-22T22:08:01.720080Z",
     "iopub.status.idle": "2021-03-22T22:08:01.927122Z",
     "shell.execute_reply": "2021-03-22T22:08:01.927638Z"
    },
    "papermill": {
     "duration": 0.247973,
     "end_time": "2021-03-22T22:08:01.928080",
     "exception": false,
     "start_time": "2021-03-22T22:08:01.680107",
     "status": "completed"
    },
    "tags": []
   },
   "outputs": [
    {
     "data": {
      "text/plain": [
       "<matplotlib.legend.Legend at 0x7f1fc717bf10>"
      ]
     },
     "execution_count": 8,
     "metadata": {},
     "output_type": "execute_result"
    },
    {
     "data": {
      "image/png": "[encoded data removed]",
      "text/plain": [
       "<Figure size 432x288 with 1 Axes>"
      ]
     },
     "metadata": {
      "needs_background": "light"
     },
     "output_type": "display_data"
    }
   ],
   "source": [
    "#plt.hist(train[\"Sale_Price\"])\n",
    "plt.hist(y_train)\n",
    "plt.gca().set(title = 'Histogram of Sale Price', ylabel = 'Frequency')\n",
    "plt.legend()"
   ]
  },
  {
   "cell_type": "markdown",
   "metadata": {
    "papermill": {
     "duration": 0.042748,
     "end_time": "2021-03-22T22:08:02.009864",
     "exception": false,
     "start_time": "2021-03-22T22:08:01.967116",
     "status": "completed"
    },
    "tags": []
   },
   "source": [
    "Based on the plot \"Sale_Price\" is positively skewed and has a high peak. Thus it's not a normal distribution, this can be fixed by using logarithm of the target to be used in the models."
   ]
  },
  {
   "cell_type": "markdown",
   "metadata": {
    "papermill": {
     "duration": 0.039668,
     "end_time": "2021-03-22T22:08:02.089780",
     "exception": false,
     "start_time": "2021-03-22T22:08:02.050112",
     "status": "completed"
    },
    "tags": []
   },
   "source": [
    "Finding out the skewness and Kurtsois values of the target"
   ]
  },
  {
   "cell_type": "code",
   "execution_count": 9,
   "metadata": {
    "execution": {
     "iopub.execute_input": "2021-03-22T22:08:02.172404Z",
     "iopub.status.busy": "2021-03-22T22:08:02.171432Z",
     "iopub.status.idle": "2021-03-22T22:08:02.179097Z",
     "shell.execute_reply": "2021-03-22T22:08:02.178469Z"
    },
    "papermill": {
     "duration": 0.050195,
     "end_time": "2021-03-22T22:08:02.179260",
     "exception": false,
     "start_time": "2021-03-22T22:08:02.129065",
     "status": "completed"
    },
    "tags": []
   },
   "outputs": [
    {
     "name": "stdout",
     "output_type": "stream",
     "text": [
      "Skewness: 1.8116366781679032\n",
      "Kurtsois: 5.470870304615207\n"
     ]
    }
   ],
   "source": [
    "print(\"Skewness:\", y_train.skew())\n",
    "print(\"Kurtsois:\", y_train.kurt())"
   ]
  },
  {
   "cell_type": "markdown",
   "metadata": {
    "papermill": {
     "duration": 0.0396,
     "end_time": "2021-03-22T22:08:02.258091",
     "exception": false,
     "start_time": "2021-03-22T22:08:02.218491",
     "status": "completed"
    },
    "tags": []
   },
   "source": [
    "The values confirm the histogram plot findings:\n",
    "Skweness > 1 -> The distribution is highly skewed.\n",
    "Kurtosis > 3 -> The distribution has a high peak and outliers are present (Leptokurtic)"
   ]
  },
  {
   "cell_type": "markdown",
   "metadata": {
    "papermill": {
     "duration": 0.038166,
     "end_time": "2021-03-22T22:08:02.334966",
     "exception": false,
     "start_time": "2021-03-22T22:08:02.296800",
     "status": "completed"
    },
    "tags": []
   },
   "source": [
    "Taking logarithm of the data to fix the skewness:"
   ]
  },
  {
   "cell_type": "code",
   "execution_count": 10,
   "metadata": {
    "execution": {
     "iopub.execute_input": "2021-03-22T22:08:02.440707Z",
     "iopub.status.busy": "2021-03-22T22:08:02.418723Z",
     "iopub.status.idle": "2021-03-22T22:08:02.602087Z",
     "shell.execute_reply": "2021-03-22T22:08:02.601535Z"
    },
    "papermill": {
     "duration": 0.227875,
     "end_time": "2021-03-22T22:08:02.602263",
     "exception": false,
     "start_time": "2021-03-22T22:08:02.374388",
     "status": "completed"
    },
    "tags": []
   },
   "outputs": [
    {
     "data": {
      "text/plain": [
       "(array([  1.,   0.,   6.,  24., 123., 689., 754., 343.,  99.,  12.]),\n",
       " array([ 9.45641889,  9.86422444, 10.27202999, 10.67983553, 11.08764108,\n",
       "        11.49544662, 11.90325217, 12.31105772, 12.71886326, 13.12666881,\n",
       "        13.53447435]),\n",
       " <BarContainer object of 10 artists>)"
      ]
     },
     "execution_count": 10,
     "metadata": {},
     "output_type": "execute_result"
    },
    {
     "data": {
      "image/png": "[encoded data removed]",
      "text/plain": [
       "<Figure size 432x288 with 1 Axes>"
      ]
     },
     "metadata": {
      "needs_background": "light"
     },
     "output_type": "display_data"
    }
   ],
   "source": [
    "y_train = np.log1p(y_train)\n",
    "test_y = np.log1p(test_y)\n",
    "plt.hist(y_train)"
   ]
  },
  {
   "cell_type": "markdown",
   "metadata": {
    "papermill": {
     "duration": 0.039527,
     "end_time": "2021-03-22T22:08:02.681898",
     "exception": false,
     "start_time": "2021-03-22T22:08:02.642371",
     "status": "completed"
    },
    "tags": []
   },
   "source": [
    "Ok, now the target distribution looks like a normal distribution. Let's re-calculate skweness and kurtsois to validate the observation:"
   ]
  },
  {
   "cell_type": "code",
   "execution_count": 11,
   "metadata": {
    "execution": {
     "iopub.execute_input": "2021-03-22T22:08:02.767802Z",
     "iopub.status.busy": "2021-03-22T22:08:02.766627Z",
     "iopub.status.idle": "2021-03-22T22:08:02.773314Z",
     "shell.execute_reply": "2021-03-22T22:08:02.772683Z"
    },
    "papermill": {
     "duration": 0.051764,
     "end_time": "2021-03-22T22:08:02.773476",
     "exception": false,
     "start_time": "2021-03-22T22:08:02.721712",
     "status": "completed"
    },
    "tags": []
   },
   "outputs": [
    {
     "name": "stdout",
     "output_type": "stream",
     "text": [
      "Skewness: 0.04196882215572036\n",
      "Kurtsois: 1.398590111915511\n"
     ]
    }
   ],
   "source": [
    "print(\"Skewness:\", y_train.skew())\n",
    "print(\"Kurtsois:\", y_train.kurt())"
   ]
  },
  {
   "cell_type": "markdown",
   "metadata": {
    "papermill": {
     "duration": 0.041361,
     "end_time": "2021-03-22T22:08:02.855487",
     "exception": false,
     "start_time": "2021-03-22T22:08:02.814126",
     "status": "completed"
    },
    "tags": []
   },
   "source": [
    "-0.5 < skewness < 0.5 -> Fairly symmetrical distribution\n",
    "Kurtsois ~ 0 -> Fairly few outliers\n",
    "If the skewness is between -0.5 and 0.5, the data are fairly symmetrical."
   ]
  },
  {
   "cell_type": "markdown",
   "metadata": {
    "papermill": {
     "duration": 0.040145,
     "end_time": "2021-03-22T22:08:02.936728",
     "exception": false,
     "start_time": "2021-03-22T22:08:02.896583",
     "status": "completed"
    },
    "tags": []
   },
   "source": [
    "**Finding Features With Highest Correlations**\n",
    "\n",
    "Based on personal perception, I expect features like \"Overall Quality\", \"Neighborhood\", \"Lot size\", \"garage quality\" have high correlation with the house price.\n",
    "Also, some features such as \"Overall Quality\" and \"Overall Condition\" or \"Garage Quality\" and \"Garage Condition\" sound similar, so must have high correlation.\n",
    "We can either plot each feature's correlation vs \"Sale_Price\" to find the highest correlated features, or use heatmap to find the highest correlations (correlations above > 05)\n",
    "\n",
    "Creating a heatmap plot to find the highest correlations\n",
    "(The next cell is copied from Matplotlib documantation webpage (https://matplotlib.org/stable/gallery/images_contours_and_fields/image_annotated_heatmap.html))"
   ]
  },
  {
   "cell_type": "code",
   "execution_count": 12,
   "metadata": {
    "execution": {
     "iopub.execute_input": "2021-03-22T22:08:03.036937Z",
     "iopub.status.busy": "2021-03-22T22:08:03.027974Z",
     "iopub.status.idle": "2021-03-22T22:08:03.040867Z",
     "shell.execute_reply": "2021-03-22T22:08:03.040153Z"
    },
    "papermill": {
     "duration": 0.063638,
     "end_time": "2021-03-22T22:08:03.041017",
     "exception": false,
     "start_time": "2021-03-22T22:08:02.977379",
     "status": "completed"
    },
    "tags": []
   },
   "outputs": [],
   "source": [
    "def heatmap(data, row_labels, col_labels, ax=None,\n",
    "            cbar_kw={}, cbarlabel=\"\", **kwargs):\n",
    "    \"\"\"\n",
    "    Create a heatmap from a numpy array and two lists of labels.\n",
    "\n",
    "    Parameters\n",
    "    ----------\n",
    "    data\n",
    "        A 2D numpy array of shape (N, M).\n",
    "    row_labels\n",
    "        A list or array of length N with the labels for the rows.\n",
    "    col_labels\n",
    "        A list or array of length M with the labels for the columns.\n",
    "    ax\n",
    "        A `matplotlib.axes.Axes` instance to which the heatmap is plotted.  If\n",
    "        not provided, use current axes or create a new one.  Optional.\n",
    "    cbar_kw\n",
    "        A dictionary with arguments to `matplotlib.Figure.colorbar`.  Optional.\n",
    "    cbarlabel\n",
    "        The label for the colorbar.  Optional.\n",
    "    **kwargs\n",
    "        All other arguments are forwarded to `imshow`.\n",
    "    \"\"\"\n",
    "\n",
    "    if not ax:\n",
    "        ax = plt.gca()\n",
    "\n",
    "    # Plot the heatmap\n",
    "    im = ax.imshow(data, **kwargs)\n",
    "\n",
    "    # Create colorbar\n",
    "    cbar = ax.figure.colorbar(im, ax=ax, **cbar_kw)\n",
    "    cbar.ax.set_ylabel(cbarlabel, rotation=-90, va=\"bottom\")\n",
    "\n",
    "    # We want to show all ticks...\n",
    "    ax.set_xticks(np.arange(data.shape[1]))\n",
    "    ax.set_yticks(np.arange(data.shape[0]))\n",
    "    # ... and label them with the respective list entries.\n",
    "    ax.set_xticklabels(col_labels)\n",
    "    ax.set_yticklabels(row_labels)\n",
    "\n",
    "    # Let the horizontal axes labeling appear on top.\n",
    "    ax.tick_params(top=True, bottom=False,\n",
    "                   labeltop=True, labelbottom=False)\n",
    "\n",
    "    # Rotate the tick labels and set their alignment.\n",
    "    plt.setp(ax.get_xticklabels(), rotation=-90, ha=\"right\",\n",
    "             rotation_mode=\"anchor\")\n",
    "\n",
    "    # Turn spines off and create white grid.\n",
    "    for edge, spine in ax.spines.items():\n",
    "        spine.set_visible(False)\n",
    "\n",
    "    ax.set_xticks(np.arange(data.shape[1]+1)-.5, minor=True)\n",
    "    ax.set_yticks(np.arange(data.shape[0]+1)-.5, minor=True)\n",
    "    ax.grid(which=\"minor\", color=\"w\", linestyle='-', linewidth=3)\n",
    "    ax.tick_params(which=\"minor\", bottom=False, left=False)\n",
    "\n",
    "    return im, cbar\n",
    "\n",
    "\n",
    "def annotate_heatmap(im, data=None, valfmt=\"{x:.2f}\",\n",
    "                     textcolors=(\"black\", \"white\"),\n",
    "                     threshold=None, **textkw):\n",
    "    \"\"\"\n",
    "    A function to annotate a heatmap.\n",
    "\n",
    "    Parameters\n",
    "    ----------\n",
    "    im\n",
    "        The AxesImage to be labeled.\n",
    "    data\n",
    "        Data used to annotate.  If None, the image's data is used.  Optional.\n",
    "    valfmt\n",
    "        The format of the annotations inside the heatmap.  This should either\n",
    "        use the string format method, e.g. \"$ {x:.2f}\", or be a\n",
    "        `matplotlib.ticker.Formatter`.  Optional.\n",
    "    textcolors\n",
    "        A pair of colors.  The first is used for values below a threshold,\n",
    "        the second for those above.  Optional.\n",
    "    threshold\n",
    "        Value in data units according to which the colors from textcolors are\n",
    "        applied.  If None (the default) uses the middle of the colormap as\n",
    "        separation.  Optional.\n",
    "    **kwargs\n",
    "        All other arguments are forwarded to each call to `text` used to create\n",
    "        the text labels.\n",
    "    \"\"\"\n",
    "\n",
    "    if not isinstance(data, (list, np.ndarray)):\n",
    "        data = im.get_array()\n",
    "\n",
    "    # Normalize the threshold to the images color range.\n",
    "    if threshold is not None:\n",
    "        threshold = im.norm(threshold)\n",
    "    else:\n",
    "        threshold = im.norm(data.max())/2.\n",
    "\n",
    "    # Set default alignment to center, but allow it to be\n",
    "    # overwritten by textkw.\n",
    "    kw = dict(horizontalalignment=\"center\",\n",
    "              verticalalignment=\"center\")\n",
    "    kw.update(textkw)\n",
    "\n",
    "    # Get the formatter in case a string is supplied\n",
    "    if isinstance(valfmt, str):\n",
    "        valfmt = matplotlib.ticker.StrMethodFormatter(valfmt)\n",
    "\n",
    "    # Loop over the data and create a `Text` for each \"pixel\".\n",
    "    # Change the text's color depending on the data.\n",
    "    texts = []\n",
    "    for i in range(data.shape[0]):\n",
    "        for j in range(data.shape[1]):\n",
    "            kw.update(color=textcolors[int(im.norm(data[i, j]) > threshold)])\n",
    "            text = im.axes.text(j, i, valfmt(data[i, j], None), **kw)\n",
    "            texts.append(text)\n",
    "\n",
    "    return texts"
   ]
  },
  {
   "cell_type": "markdown",
   "metadata": {
    "papermill": {
     "duration": 0.040413,
     "end_time": "2021-03-22T22:08:03.122177",
     "exception": false,
     "start_time": "2021-03-22T22:08:03.081764",
     "status": "completed"
    },
    "tags": []
   },
   "source": [
    "Using \"heatmap\" function to plot our correlation matrix.\n",
    "(This next cell is modified for this dataset based on instructions on https://matplotlib.org/stable/gallery/images_contours_and_fields/image_annotated_heatmap.html)"
   ]
  },
  {
   "cell_type": "code",
   "execution_count": 13,
   "metadata": {
    "execution": {
     "iopub.execute_input": "2021-03-22T22:08:03.222818Z",
     "iopub.status.busy": "2021-03-22T22:08:03.214706Z",
     "iopub.status.idle": "2021-03-22T22:08:04.483908Z",
     "shell.execute_reply": "2021-03-22T22:08:04.484471Z"
    },
    "papermill": {
     "duration": 1.321737,
     "end_time": "2021-03-22T22:08:04.484670",
     "exception": false,
     "start_time": "2021-03-22T22:08:03.162933",
     "status": "completed"
    },
    "tags": []
   },
   "outputs": [
    {
     "data": {
      "image/png": "[encoded data removed]",
      "text/plain": [
       "<Figure size 648x864 with 2 Axes>"
      ]
     },
     "metadata": {
      "needs_background": "light"
     },
     "output_type": "display_data"
    }
   ],
   "source": [
    "#new for this line\n",
    "train= pd.concat([train,y_train], axis=1)\n",
    "corr_matrix = train.corr()\n",
    "\n",
    "#plt.imshow(correlation_matrix, cmap='hot', interpolation='nearest')\n",
    "highest_correlations = corr_matrix.index[abs(corr_matrix[\"Sale_Price\"])>0.5]\n",
    "highest_correlations_features = list(corr_matrix.index[abs(corr_matrix[\"Sale_Price\"])>0.5])\n",
    "\n",
    "#print(highest_correlations)\n",
    "variables = list(highest_correlations)\n",
    "fig, ax = plt.subplots(figsize=(9,12))\n",
    "\n",
    "im, cbar = heatmap(train[highest_correlations].corr(), highest_correlations, highest_correlations, ax=ax,\n",
    "                   cmap=\"Wistia\")\n",
    "texts = annotate_heatmap(im, valfmt=\"{x:.1f}\")\n",
    "\n",
    "fig.tight_layout()\n",
    "plt.show()"
   ]
  },
  {
   "cell_type": "markdown",
   "metadata": {
    "papermill": {
     "duration": 0.042736,
     "end_time": "2021-03-22T22:08:04.570752",
     "exception": false,
     "start_time": "2021-03-22T22:08:04.528016",
     "status": "completed"
    },
    "tags": []
   },
   "source": [
    "The correlation matrix heatmap shows below highly correlated features:\n",
    "* \"Overall Quality\" has the highest correlation with \"Sale Price\" (0.8)\n",
    "* \"garageCars\" and \"GarageArea\" (0.9)\n",
    "* \"TotalBsmtSF\" and \"1stFlrSF\" (0.8)\n",
    "* \"GrLivArea\" and \"TotRmsAbvGrd\" (0.8)\n",
    "\n",
    "Hence, only one feature of each of the last 3 pairs should be used for developing the model. Between \"GrLivArea\" and \"TotRmsAbvGrd\" I chose to keep \"GrLivArea\" since has a higher correlation with \"Sale Price\". The other two pairs have same correlation value, so there was no preference over which one to keep. \n"
   ]
  },
  {
   "cell_type": "markdown",
   "metadata": {
    "papermill": {
     "duration": 0.041765,
     "end_time": "2021-03-22T22:08:04.655418",
     "exception": false,
     "start_time": "2021-03-22T22:08:04.613653",
     "status": "completed"
    },
    "tags": []
   },
   "source": [
    "Then, I decided to plot correlation plots for each feature in the correlation matrix above vs. the target (\"Sale Price\")"
   ]
  },
  {
   "cell_type": "code",
   "execution_count": 14,
   "metadata": {
    "execution": {
     "iopub.execute_input": "2021-03-22T22:08:04.747903Z",
     "iopub.status.busy": "2021-03-22T22:08:04.747107Z",
     "iopub.status.idle": "2021-03-22T22:08:07.543890Z",
     "shell.execute_reply": "2021-03-22T22:08:07.543103Z"
    },
    "papermill": {
     "duration": 2.845438,
     "end_time": "2021-03-22T22:08:07.544045",
     "exception": false,
     "start_time": "2021-03-22T22:08:04.698607",
     "status": "completed"
    },
    "tags": []
   },
   "outputs": [
    {
     "data": {
      "image/png": "[encoded data removed]",
      "text/plain": [
       "<Figure size 1080x1080 with 36 Axes>"
      ]
     },
     "metadata": {
      "needs_background": "light"
     },
     "output_type": "display_data"
    }
   ],
   "source": [
    "features = ['Sale_Price', 'Overall_Qual', 'Gr_Liv_Area', 'Garage_Cars', 'Total_Bsmt_SF', 'Full_Bath', 'Year_Built']\n",
    "\n",
    "plots = pd.plotting.scatter_matrix(train[features], figsize=(15,15), marker = 'o')\n",
    "\n",
    "plt.show()"
   ]
  },
  {
   "cell_type": "markdown",
   "metadata": {
    "papermill": {
     "duration": 0.048676,
     "end_time": "2021-03-22T22:08:07.641832",
     "exception": false,
     "start_time": "2021-03-22T22:08:07.593156",
     "status": "completed"
    },
    "tags": []
   },
   "source": [
    "Now we have a better perception of high correlated features distribution vs the target variable and the other variables."
   ]
  },
  {
   "cell_type": "markdown",
   "metadata": {
    "papermill": {
     "duration": 0.048609,
     "end_time": "2021-03-22T22:08:07.739587",
     "exception": false,
     "start_time": "2021-03-22T22:08:07.690978",
     "status": "completed"
    },
    "tags": []
   },
   "source": [
    "**Handeling Missing Values**"
   ]
  },
  {
   "cell_type": "markdown",
   "metadata": {
    "papermill": {
     "duration": 0.04896,
     "end_time": "2021-03-22T22:08:07.837446",
     "exception": false,
     "start_time": "2021-03-22T22:08:07.788486",
     "status": "completed"
    },
    "tags": []
   },
   "source": [
    "Exploring missing values in the training data.\n",
    "Some parts of the code below are used from/based on: https://www.kaggle.com/tomasmontielprieto/keeping-it-simple-eda-lasso-model-rmse-0-126"
   ]
  },
  {
   "cell_type": "code",
   "execution_count": 15,
   "metadata": {
    "execution": {
     "iopub.execute_input": "2021-03-22T22:08:07.965095Z",
     "iopub.status.busy": "2021-03-22T22:08:07.953748Z",
     "iopub.status.idle": "2021-03-22T22:08:08.002644Z",
     "shell.execute_reply": "2021-03-22T22:08:08.003224Z"
    },
    "papermill": {
     "duration": 0.115985,
     "end_time": "2021-03-22T22:08:08.003425",
     "exception": false,
     "start_time": "2021-03-22T22:08:07.887440",
     "status": "completed"
    },
    "tags": []
   },
   "outputs": [
    {
     "data": {
      "text/html": [
       "<div>\n",
       "<style scoped>\n",
       "    .dataframe tbody tr th:only-of-type {\n",
       "        vertical-align: middle;\n",
       "    }\n",
       "\n",
       "    .dataframe tbody tr th {\n",
       "        vertical-align: top;\n",
       "    }\n",
       "\n",
       "    .dataframe thead th {\n",
       "        text-align: right;\n",
       "    }\n",
       "</style>\n",
       "<table border=\"1\" class=\"dataframe\">\n",
       "  <thead>\n",
       "    <tr style=\"text-align: right;\">\n",
       "      <th></th>\n",
       "      <th>Total</th>\n",
       "      <th>Percent</th>\n",
       "    </tr>\n",
       "  </thead>\n",
       "  <tbody>\n",
       "    <tr>\n",
       "      <th>Garage_Yr_Blt</th>\n",
       "      <td>102</td>\n",
       "      <td>0.049732</td>\n",
       "    </tr>\n",
       "    <tr>\n",
       "      <th>MS_SubClass</th>\n",
       "      <td>0</td>\n",
       "      <td>0.000000</td>\n",
       "    </tr>\n",
       "    <tr>\n",
       "      <th>Garage_Area</th>\n",
       "      <td>0</td>\n",
       "      <td>0.000000</td>\n",
       "    </tr>\n",
       "    <tr>\n",
       "      <th>Garage_Finish</th>\n",
       "      <td>0</td>\n",
       "      <td>0.000000</td>\n",
       "    </tr>\n",
       "    <tr>\n",
       "      <th>Garage_Type</th>\n",
       "      <td>0</td>\n",
       "      <td>0.000000</td>\n",
       "    </tr>\n",
       "    <tr>\n",
       "      <th>Fireplace_Qu</th>\n",
       "      <td>0</td>\n",
       "      <td>0.000000</td>\n",
       "    </tr>\n",
       "    <tr>\n",
       "      <th>Fireplaces</th>\n",
       "      <td>0</td>\n",
       "      <td>0.000000</td>\n",
       "    </tr>\n",
       "    <tr>\n",
       "      <th>Functional</th>\n",
       "      <td>0</td>\n",
       "      <td>0.000000</td>\n",
       "    </tr>\n",
       "    <tr>\n",
       "      <th>TotRms_AbvGrd</th>\n",
       "      <td>0</td>\n",
       "      <td>0.000000</td>\n",
       "    </tr>\n",
       "    <tr>\n",
       "      <th>Kitchen_Qual</th>\n",
       "      <td>0</td>\n",
       "      <td>0.000000</td>\n",
       "    </tr>\n",
       "    <tr>\n",
       "      <th>Kitchen_AbvGr</th>\n",
       "      <td>0</td>\n",
       "      <td>0.000000</td>\n",
       "    </tr>\n",
       "    <tr>\n",
       "      <th>Bedroom_AbvGr</th>\n",
       "      <td>0</td>\n",
       "      <td>0.000000</td>\n",
       "    </tr>\n",
       "    <tr>\n",
       "      <th>Half_Bath</th>\n",
       "      <td>0</td>\n",
       "      <td>0.000000</td>\n",
       "    </tr>\n",
       "    <tr>\n",
       "      <th>Full_Bath</th>\n",
       "      <td>0</td>\n",
       "      <td>0.000000</td>\n",
       "    </tr>\n",
       "    <tr>\n",
       "      <th>Bsmt_Half_Bath</th>\n",
       "      <td>0</td>\n",
       "      <td>0.000000</td>\n",
       "    </tr>\n",
       "    <tr>\n",
       "      <th>Bsmt_Full_Bath</th>\n",
       "      <td>0</td>\n",
       "      <td>0.000000</td>\n",
       "    </tr>\n",
       "    <tr>\n",
       "      <th>Gr_Liv_Area</th>\n",
       "      <td>0</td>\n",
       "      <td>0.000000</td>\n",
       "    </tr>\n",
       "    <tr>\n",
       "      <th>Low_Qual_Fin_SF</th>\n",
       "      <td>0</td>\n",
       "      <td>0.000000</td>\n",
       "    </tr>\n",
       "    <tr>\n",
       "      <th>Second_Flr_SF</th>\n",
       "      <td>0</td>\n",
       "      <td>0.000000</td>\n",
       "    </tr>\n",
       "    <tr>\n",
       "      <th>Garage_Cars</th>\n",
       "      <td>0</td>\n",
       "      <td>0.000000</td>\n",
       "    </tr>\n",
       "  </tbody>\n",
       "</table>\n",
       "</div>"
      ],
      "text/plain": [
       "                 Total   Percent\n",
       "Garage_Yr_Blt      102  0.049732\n",
       "MS_SubClass          0  0.000000\n",
       "Garage_Area          0  0.000000\n",
       "Garage_Finish        0  0.000000\n",
       "Garage_Type          0  0.000000\n",
       "Fireplace_Qu         0  0.000000\n",
       "Fireplaces           0  0.000000\n",
       "Functional           0  0.000000\n",
       "TotRms_AbvGrd        0  0.000000\n",
       "Kitchen_Qual         0  0.000000\n",
       "Kitchen_AbvGr        0  0.000000\n",
       "Bedroom_AbvGr        0  0.000000\n",
       "Half_Bath            0  0.000000\n",
       "Full_Bath            0  0.000000\n",
       "Bsmt_Half_Bath       0  0.000000\n",
       "Bsmt_Full_Bath       0  0.000000\n",
       "Gr_Liv_Area          0  0.000000\n",
       "Low_Qual_Fin_SF      0  0.000000\n",
       "Second_Flr_SF        0  0.000000\n",
       "Garage_Cars          0  0.000000"
      ]
     },
     "execution_count": 15,
     "metadata": {},
     "output_type": "execute_result"
    }
   ],
   "source": [
    "total_train = train.isnull().sum().sort_values(ascending = False)\n",
    "percent_train = (train.isnull().sum()/train.isnull().count()).sort_values(ascending = False)\n",
    "missing_training_data = pd.concat([total_train, percent_train], axis = 1, keys = ['Total', 'Percent'])\n",
    "missing_training_data.head(20)"
   ]
  },
  {
   "cell_type": "code",
   "execution_count": 16,
   "metadata": {
    "execution": {
     "iopub.execute_input": "2021-03-22T22:08:08.107511Z",
     "iopub.status.busy": "2021-03-22T22:08:08.106491Z",
     "iopub.status.idle": "2021-03-22T22:08:08.141976Z",
     "shell.execute_reply": "2021-03-22T22:08:08.141297Z"
    },
    "papermill": {
     "duration": 0.089131,
     "end_time": "2021-03-22T22:08:08.142123",
     "exception": false,
     "start_time": "2021-03-22T22:08:08.052992",
     "status": "completed"
    },
    "tags": []
   },
   "outputs": [
    {
     "data": {
      "text/html": [
       "<div>\n",
       "<style scoped>\n",
       "    .dataframe tbody tr th:only-of-type {\n",
       "        vertical-align: middle;\n",
       "    }\n",
       "\n",
       "    .dataframe tbody tr th {\n",
       "        vertical-align: top;\n",
       "    }\n",
       "\n",
       "    .dataframe thead th {\n",
       "        text-align: right;\n",
       "    }\n",
       "</style>\n",
       "<table border=\"1\" class=\"dataframe\">\n",
       "  <thead>\n",
       "    <tr style=\"text-align: right;\">\n",
       "      <th></th>\n",
       "      <th>Total</th>\n",
       "      <th>Percent</th>\n",
       "    </tr>\n",
       "  </thead>\n",
       "  <tbody>\n",
       "    <tr>\n",
       "      <th>Garage_Yr_Blt</th>\n",
       "      <td>57</td>\n",
       "      <td>0.064846</td>\n",
       "    </tr>\n",
       "    <tr>\n",
       "      <th>MS_SubClass</th>\n",
       "      <td>0</td>\n",
       "      <td>0.000000</td>\n",
       "    </tr>\n",
       "    <tr>\n",
       "      <th>Electrical</th>\n",
       "      <td>0</td>\n",
       "      <td>0.000000</td>\n",
       "    </tr>\n",
       "    <tr>\n",
       "      <th>Garage_Finish</th>\n",
       "      <td>0</td>\n",
       "      <td>0.000000</td>\n",
       "    </tr>\n",
       "    <tr>\n",
       "      <th>Garage_Type</th>\n",
       "      <td>0</td>\n",
       "      <td>0.000000</td>\n",
       "    </tr>\n",
       "    <tr>\n",
       "      <th>Fireplace_Qu</th>\n",
       "      <td>0</td>\n",
       "      <td>0.000000</td>\n",
       "    </tr>\n",
       "    <tr>\n",
       "      <th>Fireplaces</th>\n",
       "      <td>0</td>\n",
       "      <td>0.000000</td>\n",
       "    </tr>\n",
       "    <tr>\n",
       "      <th>Functional</th>\n",
       "      <td>0</td>\n",
       "      <td>0.000000</td>\n",
       "    </tr>\n",
       "    <tr>\n",
       "      <th>TotRms_AbvGrd</th>\n",
       "      <td>0</td>\n",
       "      <td>0.000000</td>\n",
       "    </tr>\n",
       "    <tr>\n",
       "      <th>Kitchen_Qual</th>\n",
       "      <td>0</td>\n",
       "      <td>0.000000</td>\n",
       "    </tr>\n",
       "    <tr>\n",
       "      <th>Kitchen_AbvGr</th>\n",
       "      <td>0</td>\n",
       "      <td>0.000000</td>\n",
       "    </tr>\n",
       "    <tr>\n",
       "      <th>Bedroom_AbvGr</th>\n",
       "      <td>0</td>\n",
       "      <td>0.000000</td>\n",
       "    </tr>\n",
       "    <tr>\n",
       "      <th>Half_Bath</th>\n",
       "      <td>0</td>\n",
       "      <td>0.000000</td>\n",
       "    </tr>\n",
       "    <tr>\n",
       "      <th>Full_Bath</th>\n",
       "      <td>0</td>\n",
       "      <td>0.000000</td>\n",
       "    </tr>\n",
       "    <tr>\n",
       "      <th>Bsmt_Half_Bath</th>\n",
       "      <td>0</td>\n",
       "      <td>0.000000</td>\n",
       "    </tr>\n",
       "    <tr>\n",
       "      <th>Bsmt_Full_Bath</th>\n",
       "      <td>0</td>\n",
       "      <td>0.000000</td>\n",
       "    </tr>\n",
       "    <tr>\n",
       "      <th>Gr_Liv_Area</th>\n",
       "      <td>0</td>\n",
       "      <td>0.000000</td>\n",
       "    </tr>\n",
       "    <tr>\n",
       "      <th>Low_Qual_Fin_SF</th>\n",
       "      <td>0</td>\n",
       "      <td>0.000000</td>\n",
       "    </tr>\n",
       "    <tr>\n",
       "      <th>Second_Flr_SF</th>\n",
       "      <td>0</td>\n",
       "      <td>0.000000</td>\n",
       "    </tr>\n",
       "    <tr>\n",
       "      <th>Garage_Cars</th>\n",
       "      <td>0</td>\n",
       "      <td>0.000000</td>\n",
       "    </tr>\n",
       "  </tbody>\n",
       "</table>\n",
       "</div>"
      ],
      "text/plain": [
       "                 Total   Percent\n",
       "Garage_Yr_Blt       57  0.064846\n",
       "MS_SubClass          0  0.000000\n",
       "Electrical           0  0.000000\n",
       "Garage_Finish        0  0.000000\n",
       "Garage_Type          0  0.000000\n",
       "Fireplace_Qu         0  0.000000\n",
       "Fireplaces           0  0.000000\n",
       "Functional           0  0.000000\n",
       "TotRms_AbvGrd        0  0.000000\n",
       "Kitchen_Qual         0  0.000000\n",
       "Kitchen_AbvGr        0  0.000000\n",
       "Bedroom_AbvGr        0  0.000000\n",
       "Half_Bath            0  0.000000\n",
       "Full_Bath            0  0.000000\n",
       "Bsmt_Half_Bath       0  0.000000\n",
       "Bsmt_Full_Bath       0  0.000000\n",
       "Gr_Liv_Area          0  0.000000\n",
       "Low_Qual_Fin_SF      0  0.000000\n",
       "Second_Flr_SF        0  0.000000\n",
       "Garage_Cars          0  0.000000"
      ]
     },
     "execution_count": 16,
     "metadata": {},
     "output_type": "execute_result"
    }
   ],
   "source": [
    "total_test = test.isnull().sum().sort_values(ascending=False)\n",
    "percentage_test = (test.isnull().sum()/test.isnull().count()).sort_values(ascending=False)\n",
    "missing_test_data = pd.concat([total_test, percentage_test], axis=1, keys=['Total', 'Percent'])\n",
    "missing_test_data.head(20)"
   ]
  },
  {
   "cell_type": "markdown",
   "metadata": {
    "papermill": {
     "duration": 0.051945,
     "end_time": "2021-03-22T22:08:08.244542",
     "exception": false,
     "start_time": "2021-03-22T22:08:08.192597",
     "status": "completed"
    },
    "tags": []
   },
   "source": [
    "**Filling Out Missing Values for Numerical Features**\n",
    "\n",
    "Missing values for numerical features are replaced with zero becauce (Refer to Dr's Piazza post why). The only feature with missing values is 'Garage_Yr_blt\""
   ]
  },
  {
   "cell_type": "code",
   "execution_count": 17,
   "metadata": {
    "execution": {
     "iopub.execute_input": "2021-03-22T22:08:08.359128Z",
     "iopub.status.busy": "2021-03-22T22:08:08.358205Z",
     "iopub.status.idle": "2021-03-22T22:08:08.361212Z",
     "shell.execute_reply": "2021-03-22T22:08:08.360670Z"
    },
    "papermill": {
     "duration": 0.065805,
     "end_time": "2021-03-22T22:08:08.361376",
     "exception": false,
     "start_time": "2021-03-22T22:08:08.295571",
     "status": "completed"
    },
    "tags": []
   },
   "outputs": [],
   "source": [
    "numerical_features = ['Garage_Yr_Blt']\n",
    "\n",
    "#Feeling out numerical missing values for training set\n",
    "for feature in numerical_features:\n",
    "    train[feature] = train[feature].fillna(0)\n",
    "\n",
    "#Feeling out numerical missing values for test set\n",
    "for feature in numerical_features:\n",
    "    test[feature] = test[feature].fillna(0)"
   ]
  },
  {
   "cell_type": "markdown",
   "metadata": {
    "papermill": {
     "duration": 0.050032,
     "end_time": "2021-03-22T22:08:08.462172",
     "exception": false,
     "start_time": "2021-03-22T22:08:08.412140",
     "status": "completed"
    },
    "tags": []
   },
   "source": [
    "Let's check if we have addressed all the missing values for the numerical features."
   ]
  },
  {
   "cell_type": "code",
   "execution_count": 18,
   "metadata": {
    "execution": {
     "iopub.execute_input": "2021-03-22T22:08:08.567848Z",
     "iopub.status.busy": "2021-03-22T22:08:08.567129Z",
     "iopub.status.idle": "2021-03-22T22:08:08.575214Z",
     "shell.execute_reply": "2021-03-22T22:08:08.575724Z"
    },
    "papermill": {
     "duration": 0.063093,
     "end_time": "2021-03-22T22:08:08.575914",
     "exception": false,
     "start_time": "2021-03-22T22:08:08.512821",
     "status": "completed"
    },
    "tags": []
   },
   "outputs": [
    {
     "data": {
      "text/plain": [
       "Garage_Yr_Blt    0\n",
       "dtype: int64"
      ]
     },
     "execution_count": 18,
     "metadata": {},
     "output_type": "execute_result"
    }
   ],
   "source": [
    "check_missing_train = train[numerical_features].isnull().sum().sort_values(ascending = False)\n",
    "check_missing_train.head(20)"
   ]
  },
  {
   "cell_type": "markdown",
   "metadata": {
    "papermill": {
     "duration": 0.051297,
     "end_time": "2021-03-22T22:08:08.678200",
     "exception": false,
     "start_time": "2021-03-22T22:08:08.626903",
     "status": "completed"
    },
    "tags": []
   },
   "source": [
    "Now that we do not have missing values in our data, let us see if there are other numberical features that are skewed. \n",
    "It is important for our data to be close to a normal distribution as our models assume normal distribution."
   ]
  },
  {
   "cell_type": "code",
   "execution_count": 19,
   "metadata": {
    "execution": {
     "iopub.execute_input": "2021-03-22T22:08:08.784768Z",
     "iopub.status.busy": "2021-03-22T22:08:08.784069Z",
     "iopub.status.idle": "2021-03-22T22:08:08.802807Z",
     "shell.execute_reply": "2021-03-22T22:08:08.803359Z"
    },
    "papermill": {
     "duration": 0.073909,
     "end_time": "2021-03-22T22:08:08.803547",
     "exception": false,
     "start_time": "2021-03-22T22:08:08.729638",
     "status": "completed"
    },
    "tags": []
   },
   "outputs": [
    {
     "name": "stdout",
     "output_type": "stream",
     "text": [
      "Skewness: Lot_Area              10.336851\n",
      "Year_Built            -0.603963\n",
      "Mas_Vnr_Area           2.428758\n",
      "BsmtFin_SF_2           4.265256\n",
      "Bsmt_Unf_SF            0.925847\n",
      "Total_Bsmt_SF          1.445360\n",
      "First_Flr_SF           1.574626\n",
      "Second_Flr_SF          0.823556\n",
      "Low_Qual_Fin_SF       13.529257\n",
      "Gr_Liv_Area            1.305284\n",
      "Bsmt_Full_Bath         0.635260\n",
      "Bsmt_Half_Bath         3.895176\n",
      "Half_Bath              0.693623\n",
      "Kitchen_AbvGr          4.401753\n",
      "TotRms_AbvGrd          0.746795\n",
      "Fireplaces             0.762775\n",
      "Garage_Yr_Blt         -4.121952\n",
      "Wood_Deck_SF           2.037472\n",
      "Open_Porch_SF          2.692091\n",
      "Enclosed_Porch         4.113688\n",
      "Three_season_porch    12.619464\n",
      "Screen_Porch           3.876751\n",
      "Pool_Area             16.311768\n",
      "Misc_Val              18.511646\n",
      "Latitude              -0.510526\n",
      "dtype: float64\n",
      "Kurtsois: Lot_Area              173.714538\n",
      "Year_Built             -0.491246\n",
      "Mas_Vnr_Area            7.476179\n",
      "BsmtFin_SF_2           20.188047\n",
      "Bsmt_Unf_SF             0.392391\n",
      "Total_Bsmt_SF          11.956899\n",
      "First_Flr_SF            8.364394\n",
      "Second_Flr_SF          -0.524413\n",
      "Low_Qual_Fin_SF       222.345007\n",
      "Gr_Liv_Area             4.526242\n",
      "Bsmt_Full_Bath         -0.619485\n",
      "Bsmt_Half_Bath         14.246136\n",
      "Half_Bath              -1.046617\n",
      "Kitchen_AbvGr          19.865628\n",
      "TotRms_AbvGrd           1.033308\n",
      "Fireplaces              0.192236\n",
      "Garage_Yr_Blt          15.076778\n",
      "Wood_Deck_SF            8.570847\n",
      "Open_Porch_SF          13.085666\n",
      "Enclosed_Porch         30.824422\n",
      "Three_season_porch    187.026101\n",
      "Screen_Porch           16.079729\n",
      "Pool_Area             278.694559\n",
      "Misc_Val              399.053190\n",
      "Latitude               -0.153021\n",
      "dtype: float64\n"
     ]
    }
   ],
   "source": [
    "#Finding Numerical Features\n",
    "\n",
    "numerical = train.dtypes[train.dtypes != 'object'].index\n",
    "\n",
    "highly_skewed =  numerical[np.abs(train[numerical].skew()) > 0.5]\n",
    "\n",
    "\n",
    "print(\"Skewness:\", train[highly_skewed].skew())\n",
    "print(\"Kurtsois:\", train[highly_skewed].kurt())"
   ]
  },
  {
   "cell_type": "markdown",
   "metadata": {
    "papermill": {
     "duration": 0.051448,
     "end_time": "2021-03-22T22:08:08.906602",
     "exception": false,
     "start_time": "2021-03-22T22:08:08.855154",
     "status": "completed"
    },
    "tags": []
   },
   "source": [
    "Next, we transform these highly skewed features to normal distribution with taking their natural logarithm."
   ]
  },
  {
   "cell_type": "code",
   "execution_count": 20,
   "metadata": {
    "execution": {
     "iopub.execute_input": "2021-03-22T22:08:09.014297Z",
     "iopub.status.busy": "2021-03-22T22:08:09.013638Z",
     "iopub.status.idle": "2021-03-22T22:08:09.033961Z",
     "shell.execute_reply": "2021-03-22T22:08:09.034466Z"
    },
    "papermill": {
     "duration": 0.076296,
     "end_time": "2021-03-22T22:08:09.034673",
     "exception": false,
     "start_time": "2021-03-22T22:08:08.958377",
     "status": "completed"
    },
    "tags": []
   },
   "outputs": [],
   "source": [
    "train[highly_skewed] = np.log1p(train[highly_skewed])\n",
    "\n",
    "test[highly_skewed] = np.log1p(test[highly_skewed])"
   ]
  },
  {
   "cell_type": "markdown",
   "metadata": {
    "papermill": {
     "duration": 0.051965,
     "end_time": "2021-03-22T22:08:09.139550",
     "exception": false,
     "start_time": "2021-03-22T22:08:09.087585",
     "status": "completed"
    },
    "tags": []
   },
   "source": [
    "**New Column: Total Area**\n",
    "\n",
    "Based on personal experience and exploring Zillow and Redfin listings, total area of the house is an essential feature and the variable used to find price/sf. This dataset has individual areas per floors, yet not the total area. Below we add this columns using the individual area measures."
   ]
  },
  {
   "cell_type": "code",
   "execution_count": 21,
   "metadata": {
    "execution": {
     "iopub.execute_input": "2021-03-22T22:08:09.251440Z",
     "iopub.status.busy": "2021-03-22T22:08:09.250665Z",
     "iopub.status.idle": "2021-03-22T22:08:09.258267Z",
     "shell.execute_reply": "2021-03-22T22:08:09.258787Z"
    },
    "papermill": {
     "duration": 0.066904,
     "end_time": "2021-03-22T22:08:09.258989",
     "exception": false,
     "start_time": "2021-03-22T22:08:09.192085",
     "status": "completed"
    },
    "tags": []
   },
   "outputs": [],
   "source": [
    "train['total_area'] = train['Total_Bsmt_SF'] + train['First_Flr_SF'] + train['Second_Flr_SF']\n",
    "\n",
    "test['total_area'] = test['Total_Bsmt_SF'] + test['First_Flr_SF'] + test['Second_Flr_SF']"
   ]
  },
  {
   "cell_type": "markdown",
   "metadata": {
    "papermill": {
     "duration": 0.054222,
     "end_time": "2021-03-22T22:08:09.370256",
     "exception": false,
     "start_time": "2021-03-22T22:08:09.316034",
     "status": "completed"
    },
    "tags": []
   },
   "source": [
    "Now let's drop the unimportant features:"
   ]
  },
  {
   "cell_type": "code",
   "execution_count": 22,
   "metadata": {
    "execution": {
     "iopub.execute_input": "2021-03-22T22:08:09.481777Z",
     "iopub.status.busy": "2021-03-22T22:08:09.480969Z",
     "iopub.status.idle": "2021-03-22T22:08:09.499716Z",
     "shell.execute_reply": "2021-03-22T22:08:09.500271Z"
    },
    "papermill": {
     "duration": 0.077283,
     "end_time": "2021-03-22T22:08:09.500472",
     "exception": false,
     "start_time": "2021-03-22T22:08:09.423189",
     "status": "completed"
    },
    "tags": []
   },
   "outputs": [],
   "source": [
    "train.drop('Garage_Cars', axis=1, inplace=True)\n",
    "test.drop('Garage_Cars', axis=1, inplace=True)\n",
    "\n",
    "train.drop('Total_Bsmt_SF', axis=1, inplace=True)\n",
    "test.drop('Total_Bsmt_SF', axis=1, inplace=True)\n",
    "\n",
    "train.drop('TotRms_AbvGrd', axis=1, inplace=True)\n",
    "test.drop('TotRms_AbvGrd', axis=1, inplace=True)\n",
    "\n"
   ]
  },
  {
   "cell_type": "markdown",
   "metadata": {
    "papermill": {
     "duration": 0.059642,
     "end_time": "2021-03-22T22:08:09.614260",
     "exception": false,
     "start_time": "2021-03-22T22:08:09.554618",
     "status": "completed"
    },
    "tags": []
   },
   "source": [
    "Winsorizing the numerical features with outliers"
   ]
  },
  {
   "cell_type": "code",
   "execution_count": 23,
   "metadata": {
    "execution": {
     "iopub.execute_input": "2021-03-22T22:08:09.724010Z",
     "iopub.status.busy": "2021-03-22T22:08:09.723353Z",
     "iopub.status.idle": "2021-03-22T22:08:09.728909Z",
     "shell.execute_reply": "2021-03-22T22:08:09.728353Z"
    },
    "papermill": {
     "duration": 0.062621,
     "end_time": "2021-03-22T22:08:09.729065",
     "exception": false,
     "start_time": "2021-03-22T22:08:09.666444",
     "status": "completed"
    },
    "tags": []
   },
   "outputs": [],
   "source": [
    "#winsorize(train[\"Lot_Frontage\"], limits=[0, 0.95], inplace = True)\n",
    "#winsorize(test[\"Lot_Frontage\"], limits=[0, 0.95], inplace = True)\n",
    "\n",
    "#winsorize(train[\"Lot_Area\"], limits=[0, 0.95], inplace = True)\n",
    "#winsorize(test[\"Lot_Area\"], limits=[0, 0.95], inplace = True)\n",
    "\n",
    "#winsorize(train[\"Mas_Vnr_Area\"], limits=[0, 0.95], inplace = True)\n",
    "#winsorize(test[\"Mas_Vnr_Area\"], limits=[0, 0.95], inplace = True)\n",
    "\n",
    "#winsorize(train[\"BsmtFin_SF_2\"], limits=[0, 0.95], inplace = True)\n",
    "#winsorize(test[\"BsmtFin_SF_2\"], limits=[0, 0.95], inplace = True)\n",
    "\n",
    "#winsorize(train[\"Bsmt_Unf_SF\"], limits=[0, 0.95], inplace = True)\n",
    "#winsorize(test[\"Bsmt_Unf_SF\"], limits=[0, 0.95], inplace = True)\n",
    "\n",
    "#winsorize(train[\"Second_Flr_SF\"], limits=[0, 0.95], inplace = True)\n",
    "#winsorize(test[\"Second_Flr_SF\"], limits=[0, 0.95], inplace = True)\n",
    "\n",
    "#winsorize(train[\"First_Flr_SF\"], limits=[0, 0.95], inplace = True)\n",
    "#winsorize(test[\"First_Flr_SF\"], limits=[0, 0.95], inplace = True)\n",
    "\n",
    "#winsorize(train[\"Gr_Liv_Area\"], limits=[0, 0.95], inplace = True)\n",
    "#winsorize(test[\"Gr_Liv_Area\"], limits=[0, 0.95], inplace = True)\n",
    "\n",
    "#winsorize(train[\"Wood_Deck_SF\"], limits=[0, 0.95], inplace = True)\n",
    "#winsorize(test[\"Wood_Deck_SF\"], limits=[0, 0.95], inplace = True)\n",
    "\n",
    "#winsorize(train[\"Open_Porch_SF\"], limits=[0, 0.95], inplace = True)\n",
    "#winsorize(test[\"Open_Porch_SF\"], limits=[0, 0.95], inplace = True)\n",
    "\n",
    "#winsorize(train[\"Enclosed_Porch\"], limits=[0, 0.95], inplace = True)\n",
    "#winsorize(test[\"Enclosed_Porch\"], limits=[0, 0.95], inplace = True)\n",
    "\n",
    "#winsorize(train[\"Three_season_porch\"], limits=[0, 0.95], inplace = True)\n",
    "#winsorize(test[\"Three_season_porch\"], limits=[0, 0.95], inplace = True)\n",
    "\n",
    "#winsorize(train[\"Screen_Porch\"], limits=[0, 0.95], inplace = True)\n",
    "#winsorize(test[\"Screen_Porch\"], limits=[0, 0.95], inplace = True)\n",
    "\n",
    "#winsorize(train[\"Misc_Val\"], limits=[0, 0.95], inplace = True)\n",
    "#winsorize(test[\"Misc_Val\"], limits=[0, 0.95], inplace = True)"
   ]
  },
  {
   "cell_type": "markdown",
   "metadata": {
    "papermill": {
     "duration": 0.053044,
     "end_time": "2021-03-22T22:08:09.835328",
     "exception": false,
     "start_time": "2021-03-22T22:08:09.782284",
     "status": "completed"
    },
    "tags": []
   },
   "source": [
    "The last step in preparing our data is to convert the categorical variables to numerical with creating dummy variables. This step is necessary as our models work with numerical values."
   ]
  },
  {
   "cell_type": "code",
   "execution_count": 24,
   "metadata": {
    "execution": {
     "iopub.execute_input": "2021-03-22T22:08:09.950030Z",
     "iopub.status.busy": "2021-03-22T22:08:09.947823Z",
     "iopub.status.idle": "2021-03-22T22:08:10.068859Z",
     "shell.execute_reply": "2021-03-22T22:08:10.067985Z"
    },
    "papermill": {
     "duration": 0.181754,
     "end_time": "2021-03-22T22:08:10.069039",
     "exception": false,
     "start_time": "2021-03-22T22:08:09.887285",
     "status": "completed"
    },
    "tags": []
   },
   "outputs": [
    {
     "name": "stdout",
     "output_type": "stream",
     "text": [
      "before:\n",
      "train:  (2051, 79)\n",
      "Test:  (879, 79)\n",
      "after:\n",
      "train:  (2051, 344)\n",
      "Test:  (879, 322)\n"
     ]
    }
   ],
   "source": [
    "x_train = train.loc[:, train.columns != 'Sale_Price']\n",
    "\n",
    "y_train = train['Sale_Price']\n",
    "\n",
    "#Prepare train and test data for modelling\n",
    "\n",
    "\n",
    "print(\"before:\")\n",
    "print(\"train: \", x_train.shape)\n",
    "print(\"Test: \", test.shape)\n",
    "\n",
    "\n",
    "x_train = pd.get_dummies(x_train)\n",
    "test = pd.get_dummies(test)\n",
    "\n",
    "\n",
    "print(\"after:\")\n",
    "print(\"train: \", x_train.shape)\n",
    "print(\"Test: \", test.shape)"
   ]
  },
  {
   "cell_type": "markdown",
   "metadata": {
    "papermill": {
     "duration": 0.053378,
     "end_time": "2021-03-22T22:08:10.177266",
     "exception": false,
     "start_time": "2021-03-22T22:08:10.123888",
     "status": "completed"
    },
    "tags": []
   },
   "source": [
    "Creating dummy missing columns in test dataset based on training dataset and filling them out with zero"
   ]
  },
  {
   "cell_type": "code",
   "execution_count": 25,
   "metadata": {
    "execution": {
     "iopub.execute_input": "2021-03-22T22:08:10.292470Z",
     "iopub.status.busy": "2021-03-22T22:08:10.291421Z",
     "iopub.status.idle": "2021-03-22T22:08:10.313807Z",
     "shell.execute_reply": "2021-03-22T22:08:10.313089Z"
    },
    "papermill": {
     "duration": 0.082688,
     "end_time": "2021-03-22T22:08:10.313960",
     "exception": false,
     "start_time": "2021-03-22T22:08:10.231272",
     "status": "completed"
    },
    "tags": []
   },
   "outputs": [],
   "source": [
    "# Get missing columns in the training test\n",
    "missing_cols = set( x_train.columns ) - set( test.columns )\n",
    "# Add a missing column in test set with default value equal to 0\n",
    "for c in missing_cols:\n",
    "    test[c] = 0\n",
    "# Ensure the order of column in the test set is in the same order than in train set\n",
    "test = test[x_train.columns]"
   ]
  },
  {
   "cell_type": "code",
   "execution_count": 26,
   "metadata": {
    "execution": {
     "iopub.execute_input": "2021-03-22T22:08:10.427640Z",
     "iopub.status.busy": "2021-03-22T22:08:10.426835Z",
     "iopub.status.idle": "2021-03-22T22:08:10.433624Z",
     "shell.execute_reply": "2021-03-22T22:08:10.432869Z"
    },
    "papermill": {
     "duration": 0.064449,
     "end_time": "2021-03-22T22:08:10.433844",
     "exception": false,
     "start_time": "2021-03-22T22:08:10.369395",
     "status": "completed"
    },
    "tags": []
   },
   "outputs": [
    {
     "name": "stdout",
     "output_type": "stream",
     "text": [
      "train:  (2051, 344)\n",
      "Test:  (879, 344)\n"
     ]
    }
   ],
   "source": [
    "print(\"train: \", x_train.shape)\n",
    "print(\"Test: \", test.shape)"
   ]
  },
  {
   "cell_type": "markdown",
   "metadata": {
    "papermill": {
     "duration": 0.053654,
     "end_time": "2021-03-22T22:08:10.542116",
     "exception": false,
     "start_time": "2021-03-22T22:08:10.488462",
     "status": "completed"
    },
    "tags": []
   },
   "source": [
    "# **APPLYING MODELS**"
   ]
  },
  {
   "cell_type": "markdown",
   "metadata": {
    "papermill": {
     "duration": 0.054428,
     "end_time": "2021-03-22T22:08:10.650523",
     "exception": false,
     "start_time": "2021-03-22T22:08:10.596095",
     "status": "completed"
    },
    "tags": []
   },
   "source": [
    "Preparing data for our models"
   ]
  },
  {
   "cell_type": "markdown",
   "metadata": {
    "papermill": {
     "duration": 0.053148,
     "end_time": "2021-03-22T22:08:10.757170",
     "exception": false,
     "start_time": "2021-03-22T22:08:10.704022",
     "status": "completed"
    },
    "tags": []
   },
   "source": [
    "# Gradient Boost Model"
   ]
  },
  {
   "cell_type": "code",
   "execution_count": 27,
   "metadata": {
    "execution": {
     "iopub.execute_input": "2021-03-22T22:08:10.880030Z",
     "iopub.status.busy": "2021-03-22T22:08:10.870459Z",
     "iopub.status.idle": "2021-03-22T22:08:41.750837Z",
     "shell.execute_reply": "2021-03-22T22:08:41.751388Z"
    },
    "papermill": {
     "duration": 30.941309,
     "end_time": "2021-03-22T22:08:41.751567",
     "exception": false,
     "start_time": "2021-03-22T22:08:10.810258",
     "status": "completed"
    },
    "tags": []
   },
   "outputs": [
    {
     "name": "stdout",
     "output_type": "stream",
     "text": [
      "Time: 30.82521963119507\n"
     ]
    }
   ],
   "source": [
    "start_time_xgb = time.time()\n",
    "xgb_model = xgb.XGBRegressor(verbosity = 0, gamma=0.025, colsample_bytree=0.42,\n",
    "                             learning_rate=0.005, max_depth=6,\n",
    "                             n_estimators=3800,\n",
    "                             reg_alpha=0.1, reg_lambda=0.95,\n",
    "                             subsample=0.55, random_state =9549)\n",
    "xgb_model.fit(x_train, y_train)\n",
    "\n",
    "print(\"Time:\", time.time() - start_time_xgb)"
   ]
  },
  {
   "cell_type": "markdown",
   "metadata": {
    "papermill": {
     "duration": 0.053774,
     "end_time": "2021-03-22T22:08:41.859252",
     "exception": false,
     "start_time": "2021-03-22T22:08:41.805478",
     "status": "completed"
    },
    "tags": []
   },
   "source": [
    "Predicting our first set of data"
   ]
  },
  {
   "cell_type": "code",
   "execution_count": 28,
   "metadata": {
    "execution": {
     "iopub.execute_input": "2021-03-22T22:08:41.980254Z",
     "iopub.status.busy": "2021-03-22T22:08:41.979570Z",
     "iopub.status.idle": "2021-03-22T22:08:42.028998Z",
     "shell.execute_reply": "2021-03-22T22:08:42.029745Z"
    },
    "papermill": {
     "duration": 0.117141,
     "end_time": "2021-03-22T22:08:42.029977",
     "exception": false,
     "start_time": "2021-03-22T22:08:41.912836",
     "status": "completed"
    },
    "tags": []
   },
   "outputs": [],
   "source": [
    "y_predict_xgb = np.floor(np.expm1(xgb_model.predict(test)))\n",
    "#y_predict = xgb_model.predict(test)"
   ]
  },
  {
   "cell_type": "code",
   "execution_count": 30,
   "metadata": {
    "execution": {
     "iopub.execute_input": "2021-03-22T22:08:42.271871Z",
     "iopub.status.busy": "2021-03-22T22:08:42.271059Z",
     "iopub.status.idle": "2021-03-22T22:08:42.275774Z",
     "shell.execute_reply": "2021-03-22T22:08:42.275290Z"
    },
    "papermill": {
     "duration": 0.072175,
     "end_time": "2021-03-22T22:08:42.275932",
     "exception": false,
     "start_time": "2021-03-22T22:08:42.203757",
     "status": "completed"
    },
    "tags": []
   },
   "outputs": [
    {
     "data": {
      "text/html": [
       "<div>\n",
       "<style scoped>\n",
       "    .dataframe tbody tr th:only-of-type {\n",
       "        vertical-align: middle;\n",
       "    }\n",
       "\n",
       "    .dataframe tbody tr th {\n",
       "        vertical-align: top;\n",
       "    }\n",
       "\n",
       "    .dataframe thead th {\n",
       "        text-align: right;\n",
       "    }\n",
       "</style>\n",
       "<table border=\"1\" class=\"dataframe\">\n",
       "  <thead>\n",
       "    <tr style=\"text-align: right;\">\n",
       "      <th></th>\n",
       "      <th>PID</th>\n",
       "      <th>Sale_Price</th>\n",
       "    </tr>\n",
       "  </thead>\n",
       "  <tbody>\n",
       "    <tr>\n",
       "      <th>0</th>\n",
       "      <td>909101010</td>\n",
       "      <td>133929.0</td>\n",
       "    </tr>\n",
       "    <tr>\n",
       "      <th>1</th>\n",
       "      <td>903458170</td>\n",
       "      <td>102811.0</td>\n",
       "    </tr>\n",
       "    <tr>\n",
       "      <th>2</th>\n",
       "      <td>527110120</td>\n",
       "      <td>179036.0</td>\n",
       "    </tr>\n",
       "    <tr>\n",
       "      <th>3</th>\n",
       "      <td>535457090</td>\n",
       "      <td>141524.0</td>\n",
       "    </tr>\n",
       "    <tr>\n",
       "      <th>4</th>\n",
       "      <td>904100020</td>\n",
       "      <td>112958.0</td>\n",
       "    </tr>\n",
       "    <tr>\n",
       "      <th>...</th>\n",
       "      <td>...</td>\n",
       "      <td>...</td>\n",
       "    </tr>\n",
       "    <tr>\n",
       "      <th>874</th>\n",
       "      <td>527354050</td>\n",
       "      <td>178998.0</td>\n",
       "    </tr>\n",
       "    <tr>\n",
       "      <th>875</th>\n",
       "      <td>908152270</td>\n",
       "      <td>155585.0</td>\n",
       "    </tr>\n",
       "    <tr>\n",
       "      <th>876</th>\n",
       "      <td>528429110</td>\n",
       "      <td>246477.0</td>\n",
       "    </tr>\n",
       "    <tr>\n",
       "      <th>877</th>\n",
       "      <td>533212010</td>\n",
       "      <td>151252.0</td>\n",
       "    </tr>\n",
       "    <tr>\n",
       "      <th>878</th>\n",
       "      <td>527258010</td>\n",
       "      <td>330777.0</td>\n",
       "    </tr>\n",
       "  </tbody>\n",
       "</table>\n",
       "<p>879 rows × 2 columns</p>\n",
       "</div>"
      ],
      "text/plain": [
       "           PID  Sale_Price\n",
       "0    909101010    133929.0\n",
       "1    903458170    102811.0\n",
       "2    527110120    179036.0\n",
       "3    535457090    141524.0\n",
       "4    904100020    112958.0\n",
       "..         ...         ...\n",
       "874  527354050    178998.0\n",
       "875  908152270    155585.0\n",
       "876  528429110    246477.0\n",
       "877  533212010    151252.0\n",
       "878  527258010    330777.0\n",
       "\n",
       "[879 rows x 2 columns]"
      ]
     },
     "execution_count": 30,
     "metadata": {},
     "output_type": "execute_result"
    }
   ],
   "source": [
    "PID_test = [(str(x)+ \",\") for x in PID_test]\n",
    "output_xgb = pd.DataFrame({'PID': PID_test, 'Sale_Price': y_predict_xgb})\n",
    "output_xgb"
   ]
  },
  {
   "cell_type": "code",
   "execution_count": 31,
   "metadata": {
    "execution": {
     "iopub.execute_input": "2021-03-22T22:08:42.395096Z",
     "iopub.status.busy": "2021-03-22T22:08:42.394038Z",
     "iopub.status.idle": "2021-03-22T22:08:42.397565Z",
     "shell.execute_reply": "2021-03-22T22:08:42.398097Z"
    },
    "papermill": {
     "duration": 0.067271,
     "end_time": "2021-03-22T22:08:42.398293",
     "exception": false,
     "start_time": "2021-03-22T22:08:42.331022",
     "status": "completed"
    },
    "tags": []
   },
   "outputs": [
    {
     "name": "stdout",
     "output_type": "stream",
     "text": [
      "Sale_Price    0.12316\n",
      "dtype: float64\n"
     ]
    }
   ],
   "source": [
    "y_predict_xgb = y_predict_xgb.reshape(-1,1)\n",
    "\n",
    "RMSE = np.sqrt(np.mean((np.log1p(y_predict_xgb) - test_y) ** 2))\n",
    "print(RMSE)\n"
   ]
  },
  {
   "cell_type": "markdown",
   "metadata": {
    "papermill": {
     "duration": 0.055709,
     "end_time": "2021-03-22T22:08:42.511120",
     "exception": false,
     "start_time": "2021-03-22T22:08:42.455411",
     "status": "completed"
    },
    "tags": []
   },
   "source": [
    "# Linear Regression"
   ]
  },
  {
   "cell_type": "markdown",
   "metadata": {
    "papermill": {
     "duration": 0.055234,
     "end_time": "2021-03-22T22:08:42.621693",
     "exception": false,
     "start_time": "2021-03-22T22:08:42.566459",
     "status": "completed"
    },
    "tags": []
   },
   "source": [
    "For linear regression models such as Lasso it is essential to have the data scaled, since these models are very sensetive to feature weights"
   ]
  },
  {
   "cell_type": "code",
   "execution_count": 32,
   "metadata": {
    "execution": {
     "iopub.execute_input": "2021-03-22T22:08:42.745660Z",
     "iopub.status.busy": "2021-03-22T22:08:42.744459Z",
     "iopub.status.idle": "2021-03-22T22:08:42.767588Z",
     "shell.execute_reply": "2021-03-22T22:08:42.766989Z"
    },
    "papermill": {
     "duration": 0.090489,
     "end_time": "2021-03-22T22:08:42.767736",
     "exception": false,
     "start_time": "2021-03-22T22:08:42.677247",
     "status": "completed"
    },
    "tags": []
   },
   "outputs": [],
   "source": [
    "from sklearn.preprocessing import MinMaxScaler\n",
    "scaler = MinMaxScaler()\n",
    "x_train_scaled = scaler.fit_transform(x_train)\n",
    "x_test_scaled = scaler.transform(test)"
   ]
  },
  {
   "cell_type": "markdown",
   "metadata": {
    "papermill": {
     "duration": 0.055608,
     "end_time": "2021-03-22T22:08:42.878972",
     "exception": false,
     "start_time": "2021-03-22T22:08:42.823364",
     "status": "completed"
    },
    "tags": []
   },
   "source": [
    "**Choosing Alpha**"
   ]
  },
  {
   "cell_type": "markdown",
   "metadata": {
    "papermill": {
     "duration": 0.056145,
     "end_time": "2021-03-22T22:08:42.991542",
     "exception": false,
     "start_time": "2021-03-22T22:08:42.935397",
     "status": "completed"
    },
    "tags": []
   },
   "source": [
    "Alpha is the parameter to control how much regularization we want on our model. To find out the best alpha in terms of the least RMSE, we will use GridSearchCV to find the best Alpha value.\n",
    "(To find the best alpha value, after several rounds of try and error by hand, I found this part of code in Kaggle which was very useful. Source: https://www.kaggle.com/tomasmontielprieto/keeping-it-simple-eda-lasso-model-rmse-0-126)"
   ]
  },
  {
   "cell_type": "code",
   "execution_count": 33,
   "metadata": {
    "execution": {
     "iopub.execute_input": "2021-03-22T22:08:43.112067Z",
     "iopub.status.busy": "2021-03-22T22:08:43.111333Z",
     "iopub.status.idle": "2021-03-22T22:08:49.495679Z",
     "shell.execute_reply": "2021-03-22T22:08:49.496881Z"
    },
    "papermill": {
     "duration": 6.449207,
     "end_time": "2021-03-22T22:08:49.497147",
     "exception": false,
     "start_time": "2021-03-22T22:08:43.047940",
     "status": "completed"
    },
    "tags": []
   },
   "outputs": [
    {
     "name": "stdout",
     "output_type": "stream",
     "text": [
      "Grid best parameter (min. mse):  {'alpha': 0.00038}\n"
     ]
    }
   ],
   "source": [
    "las = Lasso()\n",
    "grid_values = {'alpha': [0.0001,0.0002,0.00025, 0.0003, 0.00036, 0.00037, 0.000375, 0.00038, 0.00039,0.000395, 0.0004,0.00045,0.00047, 0.0005,0.00051, 0.00052, 0.00055, 0.0006,0.0008,0.001,0.01, 0.02]}\n",
    "grid_las_mse = GridSearchCV(las, param_grid = grid_values, scoring = 'neg_mean_squared_error',n_jobs = -1)\n",
    "grid_las_mse.fit(x_train_scaled, y_train)\n",
    "print('Grid best parameter (min. mse): ', grid_las_mse.best_params_)"
   ]
  },
  {
   "cell_type": "markdown",
   "metadata": {
    "papermill": {
     "duration": 0.063945,
     "end_time": "2021-03-22T22:08:49.656531",
     "exception": false,
     "start_time": "2021-03-22T22:08:49.592586",
     "status": "completed"
    },
    "tags": []
   },
   "source": [
    "Now we use the best found alpha value in our model to build the model with our training data and predict results"
   ]
  },
  {
   "cell_type": "code",
   "execution_count": 34,
   "metadata": {
    "execution": {
     "iopub.execute_input": "2021-03-22T22:08:49.776553Z",
     "iopub.status.busy": "2021-03-22T22:08:49.775844Z",
     "iopub.status.idle": "2021-03-22T22:08:49.912720Z",
     "shell.execute_reply": "2021-03-22T22:08:49.913741Z"
    },
    "papermill": {
     "duration": 0.201629,
     "end_time": "2021-03-22T22:08:49.914023",
     "exception": false,
     "start_time": "2021-03-22T22:08:49.712394",
     "status": "completed"
    },
    "tags": []
   },
   "outputs": [
    {
     "name": "stdout",
     "output_type": "stream",
     "text": [
      "Accuracy on train data: 0.93\n",
      "Accuracy on test data: 0.90\n",
      "Time: 0.12267637252807617\n"
     ]
    },
    {
     "data": {
      "text/plain": [
       "0.12587550220324795"
      ]
     },
     "execution_count": 34,
     "metadata": {},
     "output_type": "execute_result"
    }
   ],
   "source": [
    "start_time_lasso = time.time()\n",
    "las = Lasso( alpha = 0.00038, random_state = 9549).fit(x_train_scaled,y_train)\n",
    "print('Accuracy on train data: {:.2f}'.format(las.score(x_train_scaled,y_train)))\n",
    "print('Accuracy on test data: {:.2f}'.format(las.score(x_test_scaled,test_y)))\n",
    "y_predict_las = np.expm1(las.predict(x_test_scaled))\n",
    "#print(y_predict_las)\n",
    "\n",
    "print(\"Time:\", time.time() - start_time_lasso)\n",
    "\n",
    "mean_squared_error(test_y, las.predict(x_test_scaled), squared=False)"
   ]
  },
  {
   "cell_type": "markdown",
   "metadata": {
    "papermill": {
     "duration": 0.058257,
     "end_time": "2021-03-22T22:08:50.072645",
     "exception": false,
     "start_time": "2021-03-22T22:08:50.014388",
     "status": "completed"
    },
    "tags": []
   },
   "source": [
    "For the last step we are going to record the prediction results and save them in a csv file."
   ]
  },
  {
   "cell_type": "code",
   "execution_count": 35,
   "metadata": {
    "execution": {
     "iopub.execute_input": "2021-03-22T22:08:50.195681Z",
     "iopub.status.busy": "2021-03-22T22:08:50.194749Z",
     "iopub.status.idle": "2021-03-22T22:08:50.205485Z",
     "shell.execute_reply": "2021-03-22T22:08:50.206048Z"
    },
    "papermill": {
     "duration": 0.076164,
     "end_time": "2021-03-22T22:08:50.206252",
     "exception": false,
     "start_time": "2021-03-22T22:08:50.130088",
     "status": "completed"
    },
    "tags": []
   },
   "outputs": [
    {
     "data": {
      "text/html": [
       "<div>\n",
       "<style scoped>\n",
       "    .dataframe tbody tr th:only-of-type {\n",
       "        vertical-align: middle;\n",
       "    }\n",
       "\n",
       "    .dataframe tbody tr th {\n",
       "        vertical-align: top;\n",
       "    }\n",
       "\n",
       "    .dataframe thead th {\n",
       "        text-align: right;\n",
       "    }\n",
       "</style>\n",
       "<table border=\"1\" class=\"dataframe\">\n",
       "  <thead>\n",
       "    <tr style=\"text-align: right;\">\n",
       "      <th></th>\n",
       "      <th>PID</th>\n",
       "      <th>Sale_Price</th>\n",
       "    </tr>\n",
       "  </thead>\n",
       "  <tbody>\n",
       "    <tr>\n",
       "      <th>0</th>\n",
       "      <td>909101010</td>\n",
       "      <td>130519.206983</td>\n",
       "    </tr>\n",
       "    <tr>\n",
       "      <th>1</th>\n",
       "      <td>903458170</td>\n",
       "      <td>105756.676555</td>\n",
       "    </tr>\n",
       "    <tr>\n",
       "      <th>2</th>\n",
       "      <td>527110120</td>\n",
       "      <td>179479.165518</td>\n",
       "    </tr>\n",
       "    <tr>\n",
       "      <th>3</th>\n",
       "      <td>535457090</td>\n",
       "      <td>143907.753111</td>\n",
       "    </tr>\n",
       "    <tr>\n",
       "      <th>4</th>\n",
       "      <td>904100020</td>\n",
       "      <td>109677.113429</td>\n",
       "    </tr>\n",
       "    <tr>\n",
       "      <th>...</th>\n",
       "      <td>...</td>\n",
       "      <td>...</td>\n",
       "    </tr>\n",
       "    <tr>\n",
       "      <th>874</th>\n",
       "      <td>527354050</td>\n",
       "      <td>185921.668053</td>\n",
       "    </tr>\n",
       "    <tr>\n",
       "      <th>875</th>\n",
       "      <td>908152270</td>\n",
       "      <td>146215.845650</td>\n",
       "    </tr>\n",
       "    <tr>\n",
       "      <th>876</th>\n",
       "      <td>528429110</td>\n",
       "      <td>268072.708283</td>\n",
       "    </tr>\n",
       "    <tr>\n",
       "      <th>877</th>\n",
       "      <td>533212010</td>\n",
       "      <td>152506.090486</td>\n",
       "    </tr>\n",
       "    <tr>\n",
       "      <th>878</th>\n",
       "      <td>527258010</td>\n",
       "      <td>276010.927832</td>\n",
       "    </tr>\n",
       "  </tbody>\n",
       "</table>\n",
       "<p>879 rows × 2 columns</p>\n",
       "</div>"
      ],
      "text/plain": [
       "           PID     Sale_Price\n",
       "0    909101010  130519.206983\n",
       "1    903458170  105756.676555\n",
       "2    527110120  179479.165518\n",
       "3    535457090  143907.753111\n",
       "4    904100020  109677.113429\n",
       "..         ...            ...\n",
       "874  527354050  185921.668053\n",
       "875  908152270  146215.845650\n",
       "876  528429110  268072.708283\n",
       "877  533212010  152506.090486\n",
       "878  527258010  276010.927832\n",
       "\n",
       "[879 rows x 2 columns]"
      ]
     },
     "execution_count": 35,
     "metadata": {},
     "output_type": "execute_result"
    }
   ],
   "source": [
    "output_lasso = pd.DataFrame({'PID': PID_test, 'Sale_Price': y_predict_las})\n",
    "output_lasso"
   ]
  },
  {
   "cell_type": "code",
   "execution_count": 36,
   "metadata": {
    "execution": {
     "iopub.execute_input": "2021-03-22T22:08:50.328825Z",
     "iopub.status.busy": "2021-03-22T22:08:50.327984Z",
     "iopub.status.idle": "2021-03-22T22:08:50.470086Z",
     "shell.execute_reply": "2021-03-22T22:08:50.470689Z"
    },
    "papermill": {
     "duration": 0.205516,
     "end_time": "2021-03-22T22:08:50.470904",
     "exception": false,
     "start_time": "2021-03-22T22:08:50.265388",
     "status": "completed"
    },
    "tags": []
   },
   "outputs": [],
   "source": [
    "#f=open('mysubmission2.txt','a')\n",
    "#np.savetxt(f, output_xgb,delimiter=\" \", fmt=\"%s\")\n",
    "#f.write(\"\\n\")\n",
    "#f.close()\n",
    "\n",
    "f = open(\"mysubmission2.txt\", \"w\")\n",
    "f.write('PID,\\t Sale_Price')\n",
    "f.write(\"\\n\")\n",
    "for id, row in output_xgb.iterrows():\n",
    "    f.write(str(row['PID']))\n",
    "    f.write(\",\")\n",
    "    f.write(str(row['Sale_Price']))\n",
    "    #f.write(row)\n",
    "    f.write(\"\\n\")\n",
    "f.close()\n",
    "\n",
    "\n",
    "f = open(\"mysubmission1.txt\", \"w\")\n",
    "f.write('PID,\\t Sale_Price')\n",
    "f.write(\"\\n\")\n",
    "for id, row in output_lasso.iterrows():\n",
    "    f.write(str(row['PID']))\n",
    "    f.write(\",\")\n",
    "    f.write(str(row['Sale_Price']))\n",
    "    #f.write(row)\n",
    "    f.write(\"\\n\")\n",
    "f.close()\n",
    "\n",
    "\n",
    "#output_xgb.to_csv('mysubmission2.txt', header=True, index=None, sep=',')\n",
    "#np.savetxt('mysubmission2.txt', output_xgb.values, delimiter=\",\", header=\"PID,\\tSale_Price\", fmt=\"%s\")\n",
    "#np.savetxt('mysubmission1.txt', output_lasso.values, delimiter=\",\", header = \"PID,\\tSale_Price\", fmt=\"%s\")\n",
    "#num.savetxt('test.txt', DAT, delimiter=\" \", fmt=\"%s\") "
   ]
  },
  {
   "cell_type": "code",
   "execution_count": 37,
   "metadata": {
    "execution": {
     "iopub.execute_input": "2021-03-22T22:08:50.592280Z",
     "iopub.status.busy": "2021-03-22T22:08:50.591612Z",
     "iopub.status.idle": "2021-03-22T22:08:50.595175Z",
     "shell.execute_reply": "2021-03-22T22:08:50.594674Z"
    },
    "papermill": {
     "duration": 0.065465,
     "end_time": "2021-03-22T22:08:50.595365",
     "exception": false,
     "start_time": "2021-03-22T22:08:50.529900",
     "status": "completed"
    },
    "tags": []
   },
   "outputs": [],
   "source": [
    "#f=open('mysubmission1.txt')\n",
    "#np.savetxt(f, output_lasso,delimiter=\" \", fmt=\"%s\")\n",
    "#f.write(\"\\n\")\n",
    "#f.close()"
   ]
  }
 ],
 "metadata": {
  "kernelspec": {
   "display_name": "Python 3",
   "language": "python",
   "name": "python3"
  },
  "language_info": {
   "codemirror_mode": {
    "name": "ipython",
    "version": 3
   },
   "file_extension": ".py",
   "mimetype": "text/x-python",
   "name": "python",
   "nbconvert_exporter": "python",
   "pygments_lexer": "ipython3",
   "version": "3.7.6"
  },
  "papermill": {
   "default_parameters": {},
   "duration": 59.539556,
   "end_time": "2021-03-22T22:08:51.665924",
   "environment_variables": {},
   "exception": null,
   "input_path": "__notebook__.ipynb",
   "output_path": "__notebook__.ipynb",
   "parameters": {},
   "start_time": "2021-03-22T22:07:52.126368",
   "version": "2.2.2"
  }
 },
 "nbformat": 4,
 "nbformat_minor": 4
}
